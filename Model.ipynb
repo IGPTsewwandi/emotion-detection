{
 "cells": [
  {
   "cell_type": "code",
   "id": "initial_id",
   "metadata": {
    "collapsed": true,
    "ExecuteTime": {
     "end_time": "2025-08-12T05:34:17.604674Z",
     "start_time": "2025-08-12T05:33:37.694581Z"
    }
   },
   "source": [
    "import torch\n",
    "from torch.optim.adamw import adamw\n",
    "from torch.utils.data import Dataset, DataLoader\n",
    "import torch.nn as nn\n",
    "from transformers import AutoModel\n",
    "import pandas as pd\n",
    "\n",
    "print(\"Torch version:\", torch.__version__)\n",
    "print(\"CUDA available:\", torch.cuda.is_available())\n",
    "print(\"CUDA toolkit version:\", torch.version.cuda)\n",
    "print(\"Device name:\", torch.cuda.get_device_name(0))"
   ],
   "outputs": [
    {
     "name": "stderr",
     "output_type": "stream",
     "text": [
      "F:\\UOJE\\Research\\.venv\\Lib\\site-packages\\tqdm\\auto.py:21: TqdmWarning: IProgress not found. Please update jupyter and ipywidgets. See https://ipywidgets.readthedocs.io/en/stable/user_install.html\n",
      "  from .autonotebook import tqdm as notebook_tqdm\n"
     ]
    },
    {
     "name": "stdout",
     "output_type": "stream",
     "text": [
      "Torch version: 2.7.1+cu118\n",
      "CUDA available: True\n",
      "CUDA toolkit version: 11.8\n",
      "Device name: NVIDIA GeForce RTX 3050 Laptop GPU\n"
     ]
    }
   ],
   "execution_count": 1
  },
  {
   "metadata": {
    "ExecuteTime": {
     "end_time": "2025-08-12T05:37:03.374669Z",
     "start_time": "2025-08-12T05:36:51.074554Z"
    }
   },
   "cell_type": "code",
   "source": [
    "from transformers import pipeline\n",
    "\n",
    "pipe = pipeline(\"fill-mask\", model=\"NLPC-UOM/SinBERT-large\")\n",
    "from transformers import AutoTokenizer, AutoModelForMaskedLM\n",
    "\n",
    "tokenizer = AutoTokenizer.from_pretrained(\"NLPC-UOM/SinBERT-large\")\n",
    "model = AutoModelForMaskedLM.from_pretrained(\"NLPC-UOM/SinBERT-large\")"
   ],
   "id": "b474cd6d67b75623",
   "outputs": [
    {
     "name": "stderr",
     "output_type": "stream",
     "text": [
      "Device set to use cuda:0\n"
     ]
    }
   ],
   "execution_count": 2
  },
  {
   "metadata": {
    "ExecuteTime": {
     "end_time": "2025-08-12T05:43:07.324847Z",
     "start_time": "2025-08-12T05:43:07.321318Z"
    }
   },
   "cell_type": "code",
   "source": [
    "import numpy as np\n",
    "import torch"
   ],
   "id": "817c4e91440dce2f",
   "outputs": [],
   "execution_count": 3
  },
  {
   "metadata": {
    "ExecuteTime": {
     "end_time": "2025-08-12T05:43:17.646585Z",
     "start_time": "2025-08-12T05:43:17.181114Z"
    }
   },
   "cell_type": "code",
   "source": [
    "device = torch.device('cuda' if torch.cuda.is_available() else 'cpu')\n",
    "model = model.to(device)"
   ],
   "id": "63c5bd566a1e76b3",
   "outputs": [],
   "execution_count": 4
  },
  {
   "metadata": {
    "ExecuteTime": {
     "end_time": "2025-08-12T05:54:07.925142Z",
     "start_time": "2025-08-12T05:54:07.906913Z"
    }
   },
   "cell_type": "code",
   "source": [
    "from torch.optim import AdamW\n",
    "df = pd.read_csv('./processed/processed_dataset.csv')\n",
    "\n",
    "# After loading df and before defining criterion\n",
    "labels = df['label'].values\n",
    "class_sample_count = np.array([np.sum(labels == t) for t in np.unique(labels)])\n",
    "weight = 1. / class_sample_count\n",
    "\n",
    "#converts numpy array of weights to torch tensor and move it to the same device as the model\n",
    "class_weights = torch.tensor(weight, dtype=torch.float).to(device)\n",
    "\n",
    "# Use in loss function\n",
    "criterion = nn.CrossEntropyLoss(weight=class_weights)\n",
    "optimizer= AdamW(model.parameters(), lr=2e-5, weight_decay=0.01)"
   ],
   "id": "7b732447ac9d0c11",
   "outputs": [],
   "execution_count": 8
  },
  {
   "metadata": {
    "ExecuteTime": {
     "end_time": "2025-08-12T05:47:27.061543Z",
     "start_time": "2025-08-12T05:47:27.054919Z"
    }
   },
   "cell_type": "code",
   "source": "class_sample_count",
   "id": "faffd825da3ebc6d",
   "outputs": [
    {
     "data": {
      "text/plain": [
       "array([614, 540, 502, 500, 519, 353])"
      ]
     },
     "execution_count": 6,
     "metadata": {},
     "output_type": "execute_result"
    }
   ],
   "execution_count": 6
  },
  {
   "metadata": {
    "ExecuteTime": {
     "end_time": "2025-08-12T05:56:57.218958Z",
     "start_time": "2025-08-12T05:56:57.215291Z"
    }
   },
   "cell_type": "code",
   "source": [
    "import torch\n",
    "from torch.utils.data import Dataset, DataLoader\n",
    "from transformers import AutoTokenizer, AutoModel"
   ],
   "id": "9c5ac5c3e29498ab",
   "outputs": [],
   "execution_count": 9
  },
  {
   "metadata": {},
   "cell_type": "markdown",
   "source": "## Creating the DataSet Class\n",
   "id": "57edb3db029fe62b"
  },
  {
   "metadata": {},
   "cell_type": "markdown",
   "source": [
    "the class wich represent the data.the dataloder will use this class to load the data one by one or in batches.it relies on 2 methods.\n",
    "\n",
    "- `__len__`    - returns the length of the dataset\n",
    "- `__getitem__` - returns the item at the given index\n",
    "Also it has the constructor which takes the dataframe, tokenizer and max_length as input parameters.\n",
    "- `__init__`- constructor to initialize the dataset with a dataframe, tokenizer, and maximum sequence length.\n",
    "    - `self.text`,`self.label` - store the raw sinhala texts and labels from the dataframe.\n",
    "    - `self.tokenizer` - stores the tokenizer object.\n",
    "    - `self.max_length` - stores the maximum length of the input sequence.all the sentences will be padded or truncated to this length."
   ],
   "id": "f7f199f83b3fd68a"
  },
  {
   "metadata": {
    "ExecuteTime": {
     "end_time": "2025-08-12T08:04:17.467798Z",
     "start_time": "2025-08-12T08:04:17.457975Z"
    }
   },
   "cell_type": "code",
   "source": [
    "from torch.utils.data import Dataset\n",
    "from transformers import AutoTokenizer\n",
    "import torch\n",
    "\n",
    "class SinhalaEmotionDataset(Dataset):\n",
    "    def __init__(self, texts, labels, tokenizer, max_len=128):\n",
    "        self.texts = texts\n",
    "        self.labels = labels\n",
    "        self.tokenizer = tokenizer\n",
    "        self.max_len = max_len\n",
    "\n",
    "    def __len__(self):\n",
    "        return len(self.texts)\n",
    "\n",
    "    def __getitem__(self, item):\n",
    "        text = str(self.texts[item])\n",
    "        label = self.labels[item]\n",
    "\n",
    "        encoding = self.tokenizer.encode_plus(\n",
    "            text,\n",
    "            add_special_tokens=True,\n",
    "            max_length=self.max_len,\n",
    "            padding='max_length',\n",
    "            truncation=True,\n",
    "            return_attention_mask=True,\n",
    "            return_tensors='pt',\n",
    "        )\n",
    "\n",
    "        return {\n",
    "            'input_ids': encoding['input_ids'].flatten(),\n",
    "            'attention_mask': encoding['attention_mask'].flatten(),\n",
    "            'labels': torch.tensor(label, dtype=torch.long)\n",
    "        }"
   ],
   "id": "b0d897f202c10d21",
   "outputs": [],
   "execution_count": 20
  },
  {
   "metadata": {},
   "cell_type": "markdown",
   "source": "## Dataloader",
   "id": "22afb248ea02fb4b"
  },
  {
   "metadata": {
    "ExecuteTime": {
     "end_time": "2025-08-12T08:04:32.305869Z",
     "start_time": "2025-08-12T08:04:32.270574Z"
    }
   },
   "cell_type": "code",
   "source": [
    "import pandas as pd\n",
    "from torch.utils.data import DataLoader\n",
    "from sklearn.model_selection import train_test_split\n",
    "\n",
    "\n",
    "df_train,df_test=train_test_split(df,test_size=0.2,random_state=42,stratify=df['label'])#stratify is used to maintain the class distribution in the train and test sets(emotion percentages are same in both sets).\n",
    "\n",
    "#Dataset and Dataloader\n",
    "BATCH_SIZE = 16\n",
    "# Instantiate the custom dataset for each split\n",
    "train_dataset = SinhalaEmotionDataset(\n",
    "    texts=df_train['text'].tolist(),\n",
    "    labels=df_train['label'].tolist(),\n",
    "    tokenizer=tokenizer\n",
    ")\n",
    "\n",
    "test_dataset = SinhalaEmotionDataset(\n",
    "    texts=df_test['text'].tolist(),\n",
    "    labels=df_test['label'].tolist(),\n",
    "    tokenizer=tokenizer\n",
    ")\n",
    "\n",
    "train_dataloader = DataLoader(train_dataset, batch_size=BATCH_SIZE, shuffle=True)\n",
    "test_dataloader = DataLoader(test_dataset, batch_size=BATCH_SIZE)\n",
    "# Set up the DataLoader for each split\n",
    "train_data_loader = DataLoader(\n",
    "    train_dataset,\n",
    "    batch_size=BATCH_SIZE,\n",
    "    shuffle=True\n",
    ")\n",
    "\n",
    "test_data_loader = DataLoader(\n",
    "    test_dataset,\n",
    "    batch_size=BATCH_SIZE\n",
    ")\n",
    "\n",
    "print(\"Data Loaders for training, validation, and testing are ready.\")"
   ],
   "id": "9bc8657e18356f34",
   "outputs": [
    {
     "name": "stdout",
     "output_type": "stream",
     "text": [
      "Data Loaders for training, validation, and testing are ready.\n"
     ]
    }
   ],
   "execution_count": 22
  },
  {
   "metadata": {},
   "cell_type": "markdown",
   "source": "## Building the Model Architecture\n",
   "id": "8b20b07c5067221e"
  },
  {
   "metadata": {},
   "cell_type": "markdown",
   "source": [
    "every pytorch model should inherit from `nn.Module` class. The model should have the following methods.\n",
    "- `__init__` - constructor to initialize the model with a pre-trained BERT model and a CNN layer.\n",
    "    - `self.bert` - stores the pre-trained BERT model.\n",
    "    - `self.cnn` - stores the CNN layer.\n",
    "    - `self.relu` - stores the ReLU activation function.\n",
    "    - `self.pool` - stores the adaptive max pooling layer."
   ],
   "id": "65a3d2b79b4ea8c"
  },
  {
   "metadata": {
    "ExecuteTime": {
     "end_time": "2025-08-12T08:04:46.652194Z",
     "start_time": "2025-08-12T08:04:46.634044Z"
    }
   },
   "cell_type": "code",
   "source": [
    "import torch.nn as nn\n",
    "from transformers import RobertaModel\n",
    "\n",
    "class SinbertCNN(nn.Module):\n",
    "    def __init__(self, num_labels, embedding_dim=1024, num_filters=100, kernel_sizes=[3, 4, 5], dropout_rate=0.5):\n",
    "        super(SinbertCNN, self).__init__()\n",
    "\n",
    "        # 1. Sinbert Encoder (RoBERTa-based)\n",
    "        # The NLPC-UOM/SinBERT-large model is a RoBERTa-based model\n",
    "        self.sinbert = RobertaModel.from_pretrained(\"NLPC-UOM/SinBERT-large\")\n",
    "\n",
    "        # 2. CNN Layers\n",
    "        self.convs = nn.ModuleList([\n",
    "            nn.Conv1d(in_channels=embedding_dim,\n",
    "                      out_channels=num_filters,\n",
    "                      kernel_size=k)\n",
    "            for k in kernel_sizes\n",
    "        ])\n",
    "\n",
    "        # 3. Dropout Layer\n",
    "        self.dropout = nn.Dropout(dropout_rate)\n",
    "\n",
    "        # 4. Classification Head\n",
    "        self.fc = nn.Linear(num_filters * len(kernel_sizes), num_labels)\n",
    "\n",
    "    def forward(self, input_ids, attention_mask):\n",
    "        # Forward pass through Sinbert. RoBERTa does not use token_type_ids.\n",
    "        outputs = self.sinbert(input_ids=input_ids, attention_mask=attention_mask)\n",
    "        embeddings = outputs.last_hidden_state\n",
    "\n",
    "        # Transpose to fit CNN input\n",
    "        x = embeddings.permute(0, 2, 1)\n",
    "\n",
    "        # Apply CNN and Max-Pooling\n",
    "        conv_outputs = [torch.relu(conv(x)) for conv in self.convs]\n",
    "        pooled_outputs = [torch.max(conv_output, dim=2)[0] for conv_output in conv_outputs]\n",
    "\n",
    "        # Concatenate outputs from all CNN layers\n",
    "        concatenated_output = torch.cat(pooled_outputs, dim=1)\n",
    "\n",
    "        # Apply dropout\n",
    "        dropout_output = self.dropout(concatenated_output)\n",
    "\n",
    "        # Final classification\n",
    "        logits = self.fc(dropout_output)\n",
    "\n",
    "        return logits"
   ],
   "id": "9b44de63a9e37719",
   "outputs": [],
   "execution_count": 23
  },
  {
   "metadata": {},
   "cell_type": "markdown",
   "source": "## Training the Model",
   "id": "8059f8724222baac"
  },
  {
   "metadata": {},
   "cell_type": "code",
   "outputs": [],
   "execution_count": null,
   "source": "",
   "id": "32140faf30b324dd"
  },
  {
   "metadata": {},
   "cell_type": "markdown",
   "source": "## Validation",
   "id": "ff319dfb7ea45c07"
  },
  {
   "metadata": {
    "ExecuteTime": {
     "end_time": "2025-07-23T17:30:17.374707Z",
     "start_time": "2025-07-23T17:28:41.196411Z"
    }
   },
   "cell_type": "code",
   "source": [
    "from sklearn.metrics import accuracy_score, precision_recall_fscore_support\n",
    "\n",
    "def evaluate_metrics(model, data_loader, device):\n",
    "    model.eval()\n",
    "    all_preds = []\n",
    "    all_labels = []\n",
    "    with torch.no_grad():\n",
    "        for batch in data_loader:\n",
    "            input_ids = batch['input_ids'].to(device)\n",
    "            attention_mask = batch['attention_mask'].to(device)\n",
    "            labels = batch['label'].to(device)\n",
    "            outputs = model(input_ids=input_ids, attention_mask=attention_mask)\n",
    "            preds = torch.argmax(outputs.logits if hasattr(outputs, 'logits') else outputs, dim=1)\n",
    "            all_preds.extend(preds.cpu().numpy())\n",
    "            all_labels.extend(labels.cpu().numpy())\n",
    "    acc = accuracy_score(all_labels, all_preds)\n",
    "    precision, recall, f1, _ = precision_recall_fscore_support(all_labels, all_preds, average='weighted')\n",
    "    return acc, precision, recall, f1\n",
    "\n",
    "# Usage:\n",
    "acc, precision, recall, f1 = evaluate_metrics(model, train_loader, device)\n",
    "print(f'Accuracy: {acc:.4f}, Precision: {precision:.4f}, Recall: {recall:.4f}, F1: {f1:.4f}')"
   ],
   "id": "72cd3173a521ea76",
   "outputs": [
    {
     "ename": "ValueError",
     "evalue": "Classification metrics can't handle a mix of multiclass and multiclass-multioutput targets",
     "output_type": "error",
     "traceback": [
      "\u001B[31m---------------------------------------------------------------------------\u001B[39m",
      "\u001B[31mValueError\u001B[39m                                Traceback (most recent call last)",
      "\u001B[36mCell\u001B[39m\u001B[36m \u001B[39m\u001B[32mIn[18]\u001B[39m\u001B[32m, line 21\u001B[39m\n\u001B[32m     18\u001B[39m     \u001B[38;5;28;01mreturn\u001B[39;00m acc, precision, recall, f1\n\u001B[32m     20\u001B[39m \u001B[38;5;66;03m# Usage:\u001B[39;00m\n\u001B[32m---> \u001B[39m\u001B[32m21\u001B[39m acc, precision, recall, f1 = \u001B[43mevaluate_metrics\u001B[49m\u001B[43m(\u001B[49m\u001B[43mmodel\u001B[49m\u001B[43m,\u001B[49m\u001B[43m \u001B[49m\u001B[43mtrain_loader\u001B[49m\u001B[43m,\u001B[49m\u001B[43m \u001B[49m\u001B[43mdevice\u001B[49m\u001B[43m)\u001B[49m\n\u001B[32m     22\u001B[39m \u001B[38;5;28mprint\u001B[39m(\u001B[33mf\u001B[39m\u001B[33m'\u001B[39m\u001B[33mAccuracy: \u001B[39m\u001B[38;5;132;01m{\u001B[39;00macc\u001B[38;5;132;01m:\u001B[39;00m\u001B[33m.4f\u001B[39m\u001B[38;5;132;01m}\u001B[39;00m\u001B[33m, Precision: \u001B[39m\u001B[38;5;132;01m{\u001B[39;00mprecision\u001B[38;5;132;01m:\u001B[39;00m\u001B[33m.4f\u001B[39m\u001B[38;5;132;01m}\u001B[39;00m\u001B[33m, Recall: \u001B[39m\u001B[38;5;132;01m{\u001B[39;00mrecall\u001B[38;5;132;01m:\u001B[39;00m\u001B[33m.4f\u001B[39m\u001B[38;5;132;01m}\u001B[39;00m\u001B[33m, F1: \u001B[39m\u001B[38;5;132;01m{\u001B[39;00mf1\u001B[38;5;132;01m:\u001B[39;00m\u001B[33m.4f\u001B[39m\u001B[38;5;132;01m}\u001B[39;00m\u001B[33m'\u001B[39m)\n",
      "\u001B[36mCell\u001B[39m\u001B[36m \u001B[39m\u001B[32mIn[18]\u001B[39m\u001B[32m, line 16\u001B[39m, in \u001B[36mevaluate_metrics\u001B[39m\u001B[34m(model, data_loader, device)\u001B[39m\n\u001B[32m     14\u001B[39m         all_preds.extend(preds.cpu().numpy())\n\u001B[32m     15\u001B[39m         all_labels.extend(labels.cpu().numpy())\n\u001B[32m---> \u001B[39m\u001B[32m16\u001B[39m acc = \u001B[43maccuracy_score\u001B[49m\u001B[43m(\u001B[49m\u001B[43mall_labels\u001B[49m\u001B[43m,\u001B[49m\u001B[43m \u001B[49m\u001B[43mall_preds\u001B[49m\u001B[43m)\u001B[49m\n\u001B[32m     17\u001B[39m precision, recall, f1, _ = precision_recall_fscore_support(all_labels, all_preds, average=\u001B[33m'\u001B[39m\u001B[33mweighted\u001B[39m\u001B[33m'\u001B[39m)\n\u001B[32m     18\u001B[39m \u001B[38;5;28;01mreturn\u001B[39;00m acc, precision, recall, f1\n",
      "\u001B[36mFile \u001B[39m\u001B[32mF:\\UOJE\\Research\\.venv\\Lib\\site-packages\\sklearn\\utils\\_param_validation.py:218\u001B[39m, in \u001B[36mvalidate_params.<locals>.decorator.<locals>.wrapper\u001B[39m\u001B[34m(*args, **kwargs)\u001B[39m\n\u001B[32m    212\u001B[39m \u001B[38;5;28;01mtry\u001B[39;00m:\n\u001B[32m    213\u001B[39m     \u001B[38;5;28;01mwith\u001B[39;00m config_context(\n\u001B[32m    214\u001B[39m         skip_parameter_validation=(\n\u001B[32m    215\u001B[39m             prefer_skip_nested_validation \u001B[38;5;129;01mor\u001B[39;00m global_skip_validation\n\u001B[32m    216\u001B[39m         )\n\u001B[32m    217\u001B[39m     ):\n\u001B[32m--> \u001B[39m\u001B[32m218\u001B[39m         \u001B[38;5;28;01mreturn\u001B[39;00m \u001B[43mfunc\u001B[49m\u001B[43m(\u001B[49m\u001B[43m*\u001B[49m\u001B[43margs\u001B[49m\u001B[43m,\u001B[49m\u001B[43m \u001B[49m\u001B[43m*\u001B[49m\u001B[43m*\u001B[49m\u001B[43mkwargs\u001B[49m\u001B[43m)\u001B[49m\n\u001B[32m    219\u001B[39m \u001B[38;5;28;01mexcept\u001B[39;00m InvalidParameterError \u001B[38;5;28;01mas\u001B[39;00m e:\n\u001B[32m    220\u001B[39m     \u001B[38;5;66;03m# When the function is just a wrapper around an estimator, we allow\u001B[39;00m\n\u001B[32m    221\u001B[39m     \u001B[38;5;66;03m# the function to delegate validation to the estimator, but we replace\u001B[39;00m\n\u001B[32m    222\u001B[39m     \u001B[38;5;66;03m# the name of the estimator by the name of the function in the error\u001B[39;00m\n\u001B[32m    223\u001B[39m     \u001B[38;5;66;03m# message to avoid confusion.\u001B[39;00m\n\u001B[32m    224\u001B[39m     msg = re.sub(\n\u001B[32m    225\u001B[39m         \u001B[33mr\u001B[39m\u001B[33m\"\u001B[39m\u001B[33mparameter of \u001B[39m\u001B[33m\\\u001B[39m\u001B[33mw+ must be\u001B[39m\u001B[33m\"\u001B[39m,\n\u001B[32m    226\u001B[39m         \u001B[33mf\u001B[39m\u001B[33m\"\u001B[39m\u001B[33mparameter of \u001B[39m\u001B[38;5;132;01m{\u001B[39;00mfunc.\u001B[34m__qualname__\u001B[39m\u001B[38;5;132;01m}\u001B[39;00m\u001B[33m must be\u001B[39m\u001B[33m\"\u001B[39m,\n\u001B[32m    227\u001B[39m         \u001B[38;5;28mstr\u001B[39m(e),\n\u001B[32m    228\u001B[39m     )\n",
      "\u001B[36mFile \u001B[39m\u001B[32mF:\\UOJE\\Research\\.venv\\Lib\\site-packages\\sklearn\\metrics\\_classification.py:359\u001B[39m, in \u001B[36maccuracy_score\u001B[39m\u001B[34m(y_true, y_pred, normalize, sample_weight)\u001B[39m\n\u001B[32m    357\u001B[39m \u001B[38;5;66;03m# Compute accuracy for each possible representation\u001B[39;00m\n\u001B[32m    358\u001B[39m y_true, y_pred = attach_unique(y_true, y_pred)\n\u001B[32m--> \u001B[39m\u001B[32m359\u001B[39m y_type, y_true, y_pred = \u001B[43m_check_targets\u001B[49m\u001B[43m(\u001B[49m\u001B[43my_true\u001B[49m\u001B[43m,\u001B[49m\u001B[43m \u001B[49m\u001B[43my_pred\u001B[49m\u001B[43m)\u001B[49m\n\u001B[32m    360\u001B[39m check_consistent_length(y_true, y_pred, sample_weight)\n\u001B[32m    362\u001B[39m \u001B[38;5;28;01mif\u001B[39;00m y_type.startswith(\u001B[33m\"\u001B[39m\u001B[33mmultilabel\u001B[39m\u001B[33m\"\u001B[39m):\n",
      "\u001B[36mFile \u001B[39m\u001B[32mF:\\UOJE\\Research\\.venv\\Lib\\site-packages\\sklearn\\metrics\\_classification.py:106\u001B[39m, in \u001B[36m_check_targets\u001B[39m\u001B[34m(y_true, y_pred)\u001B[39m\n\u001B[32m    103\u001B[39m     y_type = {\u001B[33m\"\u001B[39m\u001B[33mmulticlass\u001B[39m\u001B[33m\"\u001B[39m}\n\u001B[32m    105\u001B[39m \u001B[38;5;28;01mif\u001B[39;00m \u001B[38;5;28mlen\u001B[39m(y_type) > \u001B[32m1\u001B[39m:\n\u001B[32m--> \u001B[39m\u001B[32m106\u001B[39m     \u001B[38;5;28;01mraise\u001B[39;00m \u001B[38;5;167;01mValueError\u001B[39;00m(\n\u001B[32m    107\u001B[39m         \u001B[33m\"\u001B[39m\u001B[33mClassification metrics can\u001B[39m\u001B[33m'\u001B[39m\u001B[33mt handle a mix of \u001B[39m\u001B[38;5;132;01m{0}\u001B[39;00m\u001B[33m and \u001B[39m\u001B[38;5;132;01m{1}\u001B[39;00m\u001B[33m targets\u001B[39m\u001B[33m\"\u001B[39m.format(\n\u001B[32m    108\u001B[39m             type_true, type_pred\n\u001B[32m    109\u001B[39m         )\n\u001B[32m    110\u001B[39m     )\n\u001B[32m    112\u001B[39m \u001B[38;5;66;03m# We can't have more than one value on y_type => The set is no more needed\u001B[39;00m\n\u001B[32m    113\u001B[39m y_type = y_type.pop()\n",
      "\u001B[31mValueError\u001B[39m: Classification metrics can't handle a mix of multiclass and multiclass-multioutput targets"
     ]
    }
   ],
   "execution_count": 18
  },
  {
   "metadata": {
    "ExecuteTime": {
     "end_time": "2025-07-23T17:30:26.967194Z",
     "start_time": "2025-07-23T17:30:25.814922Z"
    }
   },
   "cell_type": "code",
   "source": [
    "import matplotlib.pyplot as plt\n",
    "\n",
    "# Example lists to store metrics\n",
    "train_losses = []\n",
    "train_accuracies = []\n",
    "\n",
    "# After each epoch in your training loop, append metrics:\n",
    "# train_losses.append(epoch_loss)\n",
    "# train_accuracies.append(epoch_accuracy)\n",
    "\n",
    "# Plotting\n",
    "plt.figure(figsize=(10, 4))\n",
    "plt.subplot(1, 2, 1)\n",
    "plt.plot(train_losses, label='Train Loss')\n",
    "plt.xlabel('Epoch')\n",
    "plt.ylabel('Loss')\n",
    "plt.title('Training Loss')\n",
    "plt.legend()\n",
    "\n",
    "plt.subplot(1, 2, 2)\n",
    "plt.plot(train_accuracies, label='Train Accuracy')\n",
    "plt.xlabel('Epoch')\n",
    "plt.ylabel('Accuracy')\n",
    "plt.title('Training Accuracy')\n",
    "plt.legend()\n",
    "\n",
    "plt.tight_layout()\n",
    "plt.show()"
   ],
   "id": "bb826566c2c5f4c3",
   "outputs": [
    {
     "data": {
      "text/plain": [
       "<Figure size 1000x400 with 2 Axes>"
      ],
      "image/png": "[encoded data removed]"
     },
     "metadata": {},
     "output_type": "display_data"
    }
   ],
   "execution_count": 19
  },
  {
   "metadata": {},
   "cell_type": "code",
   "outputs": [],
   "execution_count": null,
   "source": "",
   "id": "8fed5efc16979a29"
  }
 ],
 "metadata": {
  "kernelspec": {
   "display_name": "Python 3",
   "language": "python",
   "name": "python3"
  },
  "language_info": {
   "codemirror_mode": {
    "name": "ipython",
    "version": 2
   },
   "file_extension": ".py",
   "mimetype": "text/x-python",
   "name": "python",
   "nbconvert_exporter": "python",
   "pygments_lexer": "ipython2",
   "version": "2.7.6"
  }
 },
 "nbformat": 4,
 "nbformat_minor": 5
}
